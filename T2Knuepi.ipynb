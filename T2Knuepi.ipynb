{
 "cells": [
  {
   "cell_type": "code",
   "execution_count": 1,
   "id": "23a95553-12be-484a-83e4-10565b00ab28",
   "metadata": {},
   "outputs": [
    {
     "name": "stdout",
     "output_type": "stream",
     "text": [
      "Welcome to JupyROOT 6.30/04\n"
     ]
    }
   ],
   "source": [
    "import pyNUISANCE as pn\n",
    "rf = pn.RecordFactory()\n",
    "hepdata_rec = rf.make_record({\"type\":\"hepdata\",\n",
    "    \"recordpath\":\"/root/software/NUISANCEMC/neutrino_data/data/T2K/CrossSection/nue_CCPiplus_2024/submission-999999/submission.yaml\"})\n",
    "ana = hepdata_rec.analysis(\"cross_section\")"
   ]
  },
  {
   "cell_type": "code",
   "execution_count": 3,
   "id": "97d51c92-71f2-45be-a5fc-b6ddcd36a33c",
   "metadata": {},
   "outputs": [
    {
     "name": "stdout",
     "output_type": "stream",
     "text": [
      "12\n",
      "/root/software/NUISANCEMC/neutrino_data/data/T2K/CrossSection/nue_CCPiplus_2024/submission-999999/best_fit_nue_flux.yaml\n"
     ]
    },
    {
     "data": {
      "text/plain": [
       "['1000060120[12]', '1000010010']"
      ]
     },
     "execution_count": 3,
     "metadata": {},
     "output_type": "execute_result"
    }
   ],
   "source": [
    "probe_flux_count = ana.get_probe_flux(False)\n",
    "probe_flux_count_density = ana.get_probe_flux(True)\n",
    "\n",
    "pn.convert.ROOT.write_TH1(\"flux_for_t2k_nuepi.root\",\n",
    "                          \"flux_count\", probe_flux_count.spectrum,False,\"RECREATE\")\n",
    "pn.convert.ROOT.write_TH1(\"flux_for_t2k_nuepi.root\",\n",
    "                          \"flux_count_density\", probe_flux_count_density.spectrum,False,\"UPDATE\")\n",
    "\n",
    "print(probe_flux_count.probe_pdg)\n",
    "print(probe_flux_count.source)\n",
    "[ str(tgt) for tgt in ana.get_target() ]"
   ]
  },
  {
   "cell_type": "code",
   "execution_count": 4,
   "id": "7c3a8a24-7bb0-4d4e-92a3-46a517618622",
   "metadata": {},
   "outputs": [],
   "source": [
    "%%bash\n",
    "# only generate if we haven't already\n",
    "if [ ! -e events_for_t2k_nuepi.hepmc3.gz ]; then\n",
    "    neut-quickstart -t CH -s nue \\\n",
    "                -f flux_for_t2k_nuepi.root,flux_count \\\n",
    "                -n 100000 \\\n",
    "                -o events_for_t2k_nuepi.hepmc3.gz\n",
    "fi"
   ]
  },
  {
   "cell_type": "code",
   "execution_count": 5,
   "id": "e695c04d-5c19-4106-82b2-bb93e29262b4",
   "metadata": {},
   "outputs": [],
   "source": [
    "neut_events = pn.EventSource(\"events_for_t2k_nuepi.hepmc3.gz\")\n",
    "if not neut_events:\n",
    "    print(\"Failed to read file\")\n"
   ]
  },
  {
   "cell_type": "code",
   "execution_count": 6,
   "id": "47c81552-663d-411a-b949-57383d01e65d",
   "metadata": {},
   "outputs": [
    {
     "name": "stdout",
     "output_type": "stream",
     "text": [
      "[[ 1.1810e-41]\n",
      " [ 1.5967e-43]\n",
      " [ 2.0850e-41]\n",
      " [ 1.9175e-42]\n",
      " [ 5.0544e-43]\n",
      " [ 2.9145e-45]\n",
      " [-1.2780e-42]\n",
      " [ 2.9108e-43]]\n",
      "[0.1458  3.0564  0.03645 0.7641  0.3402  7.1316  0.08505 1.7829 ]\n",
      "[[ 1.72189800e-42]\n",
      " [ 4.88015388e-43]\n",
      " [ 7.59982500e-43]\n",
      " [ 1.46516175e-42]\n",
      " [ 1.71950688e-43]\n",
      " [ 2.07850482e-44]\n",
      " [-1.08693900e-43]\n",
      " [ 5.18966532e-43]]\n",
      "[1.88528688e-42 8.80893540e-44]\n"
     ]
    }
   ],
   "source": [
    "comparison = ana.process(neut_events)\n",
    "dh = comparison.data[0]\n",
    "print(dh.values)\n",
    "print(dh.binning.bin_sizes())\n",
    "dh.values = dh.values.squeeze() * dh.binning.bin_sizes()\n",
    "print(dh.values)\n",
    "print(dh.project(0).values.squeeze() / dh.project(0).binning.bin_sizes())"
   ]
  },
  {
   "cell_type": "code",
   "execution_count": 8,
   "id": "55c554c1-3b08-4f52-aefe-1b02f452ce7b",
   "metadata": {},
   "outputs": [
    {
     "name": "stdout",
     "output_type": "stream",
     "text": [
      "all_hist = [ 1.181e-41  1.597e-43  2.085e-41  1.917e-42  5.054e-43  2.915e-45\n",
      " -1.278e-42  2.911e-43]\n",
      "\n",
      "constructed_p_e = [1.8852768000000005e-39, 8.808048000000007e-41]\n",
      "official_p_e = [1.885e-39 8.809e-41]\n",
      "\n",
      "constructed_cos_theta_e = [1.0011378225000002e-38, 4.391784150000001e-38]\n",
      "all_cos_theta_e = [1.001e-38 4.392e-38]\n",
      "\n",
      "constructed_p_pi = [9.855038400000006e-42, 5.743180800000004e-43]\n",
      "all_p_pi = [9.856e-39 5.743e-40]\n"
     ]
    }
   ],
   "source": [
    "import ROOT\n",
    "import numpy as np\n",
    "\n",
    "dr = ROOT.TFile(\"/root/software/NUISANCEMC/neutrino_data/data/T2K/CrossSection/nue_CCPiplus_2024/release/xsec_data_3D_fix.root\")\n",
    "\n",
    "def get_hist_vals(name):\n",
    "    dh = dr.Get(name)\n",
    "    return np.array([float(f\"{dh.GetBinContent(i+1):.3e}\") for i in range(dh.GetXaxis().GetNbins())])\n",
    "\n",
    "all_hist = get_hist_vals(\"sel_best_fit\")[3:]\n",
    "all_p_e = get_hist_vals(\"sel_best_fit_elecmom\")\n",
    "all_cos_theta_e = get_hist_vals(\"sel_best_fit_eleccos\")\n",
    "all_p_pi = get_hist_vals(\"sel_best_fit_pimom\")\n",
    "\n",
    "p_e_widths = np.array([ (1.7 - 0.35), (30 - 1.7), (1.7 - 0.35), (30 - 1.7), (1.7 - 0.35), (30 - 1.7), (1.7 - 0.35), (30 - 1.7) ])\n",
    "cos_theta_e_widths = np.array([ (0.94 - 0.7), (0.94 - 0.7), (1 - 0.94), (1 - 0.94), (0.94 - 0.7), (0.94 - 0.7), (1 - 0.94), (1 - 0.94) ])\n",
    "p_pi_widths = np.array([ (0.45 - 0), (0.45 - 0), (0.45 - 0), (0.45 - 0), (1.5 - 0.45), (1.5 - 0.45), (1.5 - 0.45), (1.5 - 0.45) ]) * 1E3\n",
    "\n",
    "print(f\"all_hist = {all_hist}\")\n",
    "\n",
    "constructed_p_e = [ 0,0 ]\n",
    "for i in [4,6,8,10]:\n",
    "    constructed_p_e[0] += all_hist[i-4] * cos_theta_e_widths[i-4] * p_pi_widths[i-4]\n",
    "for i in [5,7,9,11]:\n",
    "    constructed_p_e[1] += all_hist[i-4] * cos_theta_e_widths[i-4] * p_pi_widths[i-4]\n",
    "\n",
    "print(f\"\\nconstructed_p_e = {constructed_p_e}\")\n",
    "print(f\"official_p_e = {all_p_e}\")\n",
    "\n",
    "constructed_cos_theta_e = [ 0,0 ]\n",
    "for i in [4,5,8,9]:\n",
    "    constructed_cos_theta_e[0] += all_hist[i-4] * p_e_widths[i-4] * p_pi_widths[i-4]\n",
    "for i in [6,7,10,11]:\n",
    "    constructed_cos_theta_e[1] += all_hist[i-4] * p_e_widths[i-4] * p_pi_widths[i-4]\n",
    "\n",
    "print(f\"\\nconstructed_cos_theta_e = {constructed_cos_theta_e}\")\n",
    "print(f\"all_cos_theta_e = {all_cos_theta_e}\")\n",
    "\n",
    "constructed_p_pi = [ 0,0 ]\n",
    "for i in [4,5,6,7]:\n",
    "    constructed_p_pi[0] += all_hist[i-4] * p_e_widths[i-4] * cos_theta_e_widths[i-4]\n",
    "for i in [8,9,10,11]:\n",
    "    constructed_p_pi[1] += all_hist[i-4] * p_e_widths[i-4] * cos_theta_e_widths[i-4]\n",
    "\n",
    "print(f\"\\nconstructed_p_pi = {constructed_p_pi}\")\n",
    "print(f\"all_p_pi = {all_p_pi}\")"
   ]
  },
  {
   "cell_type": "code",
   "execution_count": 6,
   "id": "fb4f40c5-a11e-4035-9ac8-f28d95f5d372",
   "metadata": {},
   "outputs": [
    {
     "name": "stdout",
     "output_type": "stream",
     "text": [
      " -------------------------------\n",
      " | bin |      data |       err |\n",
      " -------------------------------\n",
      " |   0 | 4.649e-42 |  4.06e-82 |\n",
      " |   1 | 3.457e-43 | 1.282e-84 |\n",
      " ------------------------------- Axis lables: [\"$p_e$ [GeV/c]\"]\n",
      "Bins: [\n",
      "  0: [(0.35 - 1.70)]\n",
      "  1: [(1.70 - 30.00)]\n",
      "]\n",
      "\n",
      " -------------------------------\n",
      " | bin |      data |       err |\n",
      " -------------------------------\n",
      " |   0 | 1.819e-42 | 3.873e-83 |\n",
      " |   1 | 3.176e-42 | 3.686e-82 |\n",
      " ------------------------------- Axis lables: [\"$\\\\cos{\\\\theta_e}$\"]\n",
      "Bins: [\n",
      "  0: [(0.70 - 0.94)]\n",
      "  1: [(0.94 - 1.00)]\n",
      "]\n",
      "\n",
      " --------------------------------\n",
      " | bin |       data |       err |\n",
      " --------------------------------\n",
      " |   0 |  5.065e-42 | 3.929e-82 |\n",
      " |   1 | -6.977e-44 | 1.442e-83 |\n",
      " -------------------------------- Axis lables: [\"$p_\\\\pi$ [GeV/c]\"]\n",
      "Bins: [\n",
      "  0: [(0.00 - 0.45)]\n",
      "  1: [(0.45 - 1.50)]\n",
      "]\n",
      "\n"
     ]
    },
    {
     "data": {
      "image/png": "[encoded data removed]",
      "text/plain": [
       "<Figure size 1200x800 with 6 Axes>"
      ]
     },
     "metadata": {},
     "output_type": "display_data"
    }
   ],
   "source": [
    "import matplotlib.pyplot as plt\n",
    "\n",
    "comparison = ana.process(neut_events)\n",
    "\n",
    "fig, axes = plt.subplots(2,3, figsize=(12,8))\n",
    "\n",
    "d_count = comparison.data[0]\n",
    "# d_count.values = d_count.values * d_count.binning.bin_sizes()\n",
    "\n",
    "p_count = comparison.predictions[0]\n",
    "p_count.values = p_count.values * p_count.binning.bin_sizes()\n",
    "\n",
    "for i in range(3):\n",
    "    d_proj = d_count.project(i)\n",
    "    print(d_proj,d_proj.binning)\n",
    "    # d_proj.values = d_proj.values / d_proj.binning.bin_sizes()\n",
    "    d_proj.mpl().data_hist(plot_axis=axes[0][i])\n",
    "    # comparison.predictions[0].project(i).mpl().hist(histtype=\"step\", plot_axis=axes[0][i])\n",
    "    # comparison.predictions[0].project(i).mpl().hist(histtype=\"step\", plot_axis=axes[1][i])\n",
    "\n",
    "fig.tight_layout()\n",
    "fig.show()"
   ]
  },
  {
   "cell_type": "code",
   "execution_count": null,
   "id": "58118e84-093c-48a8-8557-eeaf34851f91",
   "metadata": {},
   "outputs": [],
   "source": []
  }
 ],
 "metadata": {
  "kernelspec": {
   "display_name": "Python 3 (ipykernel)",
   "language": "python",
   "name": "python3"
  },
  "language_info": {
   "codemirror_mode": {
    "name": "ipython",
    "version": 3
   },
   "file_extension": ".py",
   "mimetype": "text/x-python",
   "name": "python",
   "nbconvert_exporter": "python",
   "pygments_lexer": "ipython3",
   "version": "3.9.18"
  }
 },
 "nbformat": 4,
 "nbformat_minor": 5
}
